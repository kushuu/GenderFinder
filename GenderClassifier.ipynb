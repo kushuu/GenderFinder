{
 "cells": [
  {
   "cell_type": "code",
   "execution_count": 1,
   "metadata": {
    "pycharm": {
     "is_executing": false
    }
   },
   "outputs": [],
   "source": [
    "#utility\n",
    "import pandas as pd\n",
    "import numpy as np\n",
    "import pickle\n",
    "#ml packages\n",
    "from sklearn.feature_extraction.text import CountVectorizer\n",
    "from sklearn.feature_extraction import DictVectorizer\n",
    "from sklearn.model_selection import train_test_split"
   ]
  },
  {
   "cell_type": "code",
   "execution_count": 2,
   "metadata": {
    "pycharm": {
     "is_executing": false
    }
   },
   "outputs": [],
   "source": [
    "df = pd.read_csv('dataset.csv')"
   ]
  },
  {
   "cell_type": "code",
   "execution_count": 3,
   "metadata": {
    "pycharm": {
     "is_executing": false
    }
   },
   "outputs": [
    {
     "data": {
      "text/html": [
       "<div>\n",
       "<style scoped>\n",
       "    .dataframe tbody tr th:only-of-type {\n",
       "        vertical-align: middle;\n",
       "    }\n",
       "\n",
       "    .dataframe tbody tr th {\n",
       "        vertical-align: top;\n",
       "    }\n",
       "\n",
       "    .dataframe thead th {\n",
       "        text-align: right;\n",
       "    }\n",
       "</style>\n",
       "<table border=\"1\" class=\"dataframe\">\n",
       "  <thead>\n",
       "    <tr style=\"text-align: right;\">\n",
       "      <th></th>\n",
       "      <th>sex</th>\n",
       "      <th>name</th>\n",
       "      <th>count</th>\n",
       "    </tr>\n",
       "  </thead>\n",
       "  <tbody>\n",
       "    <tr>\n",
       "      <th>0</th>\n",
       "      <td>M</td>\n",
       "      <td>James</td>\n",
       "      <td>4924235</td>\n",
       "    </tr>\n",
       "    <tr>\n",
       "      <th>1</th>\n",
       "      <td>M</td>\n",
       "      <td>John</td>\n",
       "      <td>4818746</td>\n",
       "    </tr>\n",
       "    <tr>\n",
       "      <th>2</th>\n",
       "      <td>M</td>\n",
       "      <td>Robert</td>\n",
       "      <td>4703680</td>\n",
       "    </tr>\n",
       "    <tr>\n",
       "      <th>3</th>\n",
       "      <td>M</td>\n",
       "      <td>Michael</td>\n",
       "      <td>4280040</td>\n",
       "    </tr>\n",
       "    <tr>\n",
       "      <th>4</th>\n",
       "      <td>M</td>\n",
       "      <td>William</td>\n",
       "      <td>3811998</td>\n",
       "    </tr>\n",
       "  </tbody>\n",
       "</table>\n",
       "</div>"
      ],
      "text/plain": [
       "  sex     name    count\n",
       "0   M    James  4924235\n",
       "1   M     John  4818746\n",
       "2   M   Robert  4703680\n",
       "3   M  Michael  4280040\n",
       "4   M  William  3811998"
      ]
     },
     "execution_count": 3,
     "metadata": {},
     "output_type": "execute_result"
    }
   ],
   "source": [
    "df.head()"
   ]
  },
  {
   "cell_type": "code",
   "execution_count": 4,
   "metadata": {
    "pycharm": {
     "is_executing": false
    }
   },
   "outputs": [
    {
     "data": {
      "text/plain": [
       "98040"
      ]
     },
     "execution_count": 4,
     "metadata": {},
     "output_type": "execute_result"
    }
   ],
   "source": [
    "df.size"
   ]
  },
  {
   "cell_type": "code",
   "execution_count": 5,
   "metadata": {
    "pycharm": {
     "is_executing": false
    }
   },
   "outputs": [
    {
     "data": {
      "text/plain": [
       "Index(['sex', 'name', 'count'], dtype='object')"
      ]
     },
     "execution_count": 5,
     "metadata": {},
     "output_type": "execute_result"
    }
   ],
   "source": [
    "df.columns"
   ]
  },
  {
   "cell_type": "code",
   "execution_count": 6,
   "metadata": {
    "pycharm": {
     "is_executing": false
    }
   },
   "outputs": [
    {
     "data": {
      "text/plain": [
       "sex      0\n",
       "name     0\n",
       "count    0\n",
       "dtype: int64"
      ]
     },
     "execution_count": 6,
     "metadata": {},
     "output_type": "execute_result"
    }
   ],
   "source": [
    "df.isnull().isnull().sum()"
   ]
  },
  {
   "cell_type": "code",
   "execution_count": 7,
   "metadata": {
    "pycharm": {
     "is_executing": false
    }
   },
   "outputs": [
    {
     "data": {
      "text/plain": [
       "sex      object\n",
       "name     object\n",
       "count     int64\n",
       "dtype: object"
      ]
     },
     "execution_count": 7,
     "metadata": {},
     "output_type": "execute_result"
    }
   ],
   "source": [
    "df.dtypes"
   ]
  },
  {
   "cell_type": "code",
   "execution_count": 8,
   "metadata": {
    "pycharm": {
     "is_executing": false
    }
   },
   "outputs": [
    {
     "data": {
      "text/plain": [
       "38799"
      ]
     },
     "execution_count": 8,
     "metadata": {},
     "output_type": "execute_result"
    }
   ],
   "source": [
    "df[df.sex == 'M'].size"
   ]
  },
  {
   "cell_type": "code",
   "execution_count": 9,
   "metadata": {
    "pycharm": {
     "is_executing": false
    }
   },
   "outputs": [
    {
     "data": {
      "text/plain": [
       "59241"
      ]
     },
     "execution_count": 9,
     "metadata": {},
     "output_type": "execute_result"
    }
   ],
   "source": [
    "df[df.sex == 'F'].size"
   ]
  },
  {
   "cell_type": "code",
   "execution_count": 10,
   "metadata": {
    "pycharm": {
     "is_executing": false
    }
   },
   "outputs": [
    {
     "data": {
      "text/html": [
       "<div>\n",
       "<style scoped>\n",
       "    .dataframe tbody tr th:only-of-type {\n",
       "        vertical-align: middle;\n",
       "    }\n",
       "\n",
       "    .dataframe tbody tr th {\n",
       "        vertical-align: top;\n",
       "    }\n",
       "\n",
       "    .dataframe thead th {\n",
       "        text-align: right;\n",
       "    }\n",
       "</style>\n",
       "<table border=\"1\" class=\"dataframe\">\n",
       "  <thead>\n",
       "    <tr style=\"text-align: right;\">\n",
       "      <th></th>\n",
       "      <th>sex</th>\n",
       "      <th>name</th>\n",
       "      <th>count</th>\n",
       "    </tr>\n",
       "  </thead>\n",
       "  <tbody>\n",
       "    <tr>\n",
       "      <th>0</th>\n",
       "      <td>1</td>\n",
       "      <td>James</td>\n",
       "      <td>4924235</td>\n",
       "    </tr>\n",
       "    <tr>\n",
       "      <th>1</th>\n",
       "      <td>1</td>\n",
       "      <td>John</td>\n",
       "      <td>4818746</td>\n",
       "    </tr>\n",
       "    <tr>\n",
       "      <th>2</th>\n",
       "      <td>1</td>\n",
       "      <td>Robert</td>\n",
       "      <td>4703680</td>\n",
       "    </tr>\n",
       "    <tr>\n",
       "      <th>3</th>\n",
       "      <td>1</td>\n",
       "      <td>Michael</td>\n",
       "      <td>4280040</td>\n",
       "    </tr>\n",
       "    <tr>\n",
       "      <th>4</th>\n",
       "      <td>1</td>\n",
       "      <td>William</td>\n",
       "      <td>3811998</td>\n",
       "    </tr>\n",
       "  </tbody>\n",
       "</table>\n",
       "</div>"
      ],
      "text/plain": [
       "   sex     name    count\n",
       "0    1    James  4924235\n",
       "1    1     John  4818746\n",
       "2    1   Robert  4703680\n",
       "3    1  Michael  4280040\n",
       "4    1  William  3811998"
      ]
     },
     "execution_count": 10,
     "metadata": {},
     "output_type": "execute_result"
    }
   ],
   "source": [
    "names = df\n",
    "names.sex.replace({'F':0, 'M':1}, inplace = True)\n",
    "names.head()"
   ]
  },
  {
   "cell_type": "code",
   "execution_count": 11,
   "metadata": {
    "pycharm": {
     "is_executing": false
    }
   },
   "outputs": [
    {
     "data": {
      "text/plain": [
       "array([1, 0], dtype=int64)"
      ]
     },
     "execution_count": 11,
     "metadata": {},
     "output_type": "execute_result"
    }
   ],
   "source": [
    "names.sex.unique()"
   ]
  },
  {
   "cell_type": "code",
   "execution_count": 12,
   "metadata": {
    "pycharm": {
     "is_executing": false
    }
   },
   "outputs": [
    {
     "data": {
      "text/plain": [
       "['aaban',\n",
       " 'aadan',\n",
       " 'aadarsh',\n",
       " 'aaden',\n",
       " 'aadhya',\n",
       " 'aadi',\n",
       " 'aadil',\n",
       " 'aadin',\n",
       " 'aadit',\n",
       " 'aaditya',\n",
       " 'aadya',\n",
       " 'aadyn',\n",
       " 'aahan',\n",
       " 'aahana',\n",
       " 'aahil',\n",
       " 'aaiden',\n",
       " 'aaima',\n",
       " 'aakash',\n",
       " 'aalayah',\n",
       " 'aaleah',\n",
       " 'aaleyah',\n",
       " 'aalia',\n",
       " 'aaliah',\n",
       " 'aalijah',\n",
       " 'aaliya',\n",
       " 'aaliyah',\n",
       " 'aaliyha',\n",
       " 'aalliyah',\n",
       " 'aalyah',\n",
       " 'aalyiah',\n",
       " 'aamina',\n",
       " 'aaminah',\n",
       " 'aamir',\n",
       " 'aamira',\n",
       " 'aamiyah',\n",
       " 'aanchal',\n",
       " 'aanika',\n",
       " 'aaniya',\n",
       " 'aaniyah',\n",
       " 'aanya',\n",
       " 'aaradhya',\n",
       " 'aaralyn',\n",
       " 'aaralynn',\n",
       " 'aarav',\n",
       " 'aaren',\n",
       " 'aarian',\n",
       " 'aariana',\n",
       " 'aaric',\n",
       " 'aarika',\n",
       " 'aarin',\n",
       " 'aarion',\n",
       " 'aariyah',\n",
       " 'aariz',\n",
       " 'aarna',\n",
       " 'aarnav',\n",
       " 'aarohi',\n",
       " 'aaron',\n",
       " 'aaronjames',\n",
       " 'aaronjoshua',\n",
       " 'aaronmichael',\n",
       " 'aarron',\n",
       " 'aarti',\n",
       " 'aarush',\n",
       " 'aarushi',\n",
       " 'aarya',\n",
       " 'aaryan',\n",
       " 'aaryn',\n",
       " 'aasha',\n",
       " 'aashi',\n",
       " 'aashna',\n",
       " 'aashritha',\n",
       " 'aasia',\n",
       " 'aasim',\n",
       " 'aasiyah',\n",
       " 'aastha',\n",
       " 'aayan',\n",
       " 'aayat',\n",
       " 'aayden',\n",
       " 'aayla',\n",
       " 'aayush',\n",
       " 'aayushi',\n",
       " 'ab',\n",
       " 'abagail',\n",
       " 'abagayle',\n",
       " 'abaigeal',\n",
       " 'abanoub',\n",
       " 'abayomi',\n",
       " 'abba',\n",
       " 'abbagail',\n",
       " 'abbas',\n",
       " 'abbe',\n",
       " 'abbey',\n",
       " 'abbi',\n",
       " 'abbie',\n",
       " 'abbiegail',\n",
       " 'abbigail',\n",
       " 'abbigale',\n",
       " 'abbigayle',\n",
       " 'abbott',\n",
       " 'abby',\n",
       " 'abbye',\n",
       " 'abbygail',\n",
       " 'abbygale',\n",
       " 'abbygayle',\n",
       " 'abcde',\n",
       " 'abdalla',\n",
       " 'abdallah',\n",
       " 'abdel',\n",
       " 'abdelrahman',\n",
       " 'abdi',\n",
       " 'abdias',\n",
       " 'abdiaziz',\n",
       " 'abdiel',\n",
       " 'abdifatah',\n",
       " 'abdimalik',\n",
       " 'abdinasir',\n",
       " 'abdirahim',\n",
       " 'abdirahman',\n",
       " 'abdirizak',\n",
       " 'abdishakur',\n",
       " 'abdo',\n",
       " 'abdon',\n",
       " 'abdou',\n",
       " 'abdoul',\n",
       " 'abdoulaye',\n",
       " 'abdoulie',\n",
       " 'abdul',\n",
       " 'abdulahi',\n",
       " 'abdulai',\n",
       " 'abdulaziz',\n",
       " 'abdulla',\n",
       " 'abdullah',\n",
       " 'abdullahi',\n",
       " 'abdulmalik',\n",
       " 'abdulrahman',\n",
       " 'abdur',\n",
       " 'abdurahman',\n",
       " 'abdurrahman',\n",
       " 'abe',\n",
       " 'abeeha',\n",
       " 'abeer',\n",
       " 'abegail',\n",
       " 'abel',\n",
       " 'abelardo',\n",
       " 'abelina',\n",
       " 'abelino',\n",
       " 'abella',\n",
       " 'abena',\n",
       " 'abenezer',\n",
       " 'abeni',\n",
       " 'aberdeen',\n",
       " 'abhay',\n",
       " 'abhijot',\n",
       " 'abhimanyu',\n",
       " 'abhinav',\n",
       " 'abhiram',\n",
       " 'abhishek',\n",
       " 'abi',\n",
       " 'abid',\n",
       " 'abie',\n",
       " 'abiel',\n",
       " 'abigael',\n",
       " 'abigaelle',\n",
       " 'abigail',\n",
       " 'abigaile',\n",
       " 'abigal',\n",
       " 'abigale',\n",
       " 'abigayl',\n",
       " 'abigayle',\n",
       " 'abiha',\n",
       " 'abilene',\n",
       " 'abimael',\n",
       " 'abiola',\n",
       " 'abir',\n",
       " 'abisai',\n",
       " 'able',\n",
       " 'abner',\n",
       " 'abou',\n",
       " 'aboubacar',\n",
       " 'aboubakar',\n",
       " 'abra',\n",
       " 'abraham',\n",
       " 'abrahan',\n",
       " 'abrahim',\n",
       " 'abrahm',\n",
       " 'abram',\n",
       " 'abran',\n",
       " 'abrar',\n",
       " 'abreanna',\n",
       " 'abree',\n",
       " 'abrham',\n",
       " 'abri',\n",
       " 'abria',\n",
       " 'abrian',\n",
       " 'abriana',\n",
       " 'abrianna',\n",
       " 'abrie',\n",
       " 'abriel',\n",
       " 'abriella',\n",
       " 'abrielle',\n",
       " 'abril',\n",
       " 'abrina',\n",
       " 'abron',\n",
       " 'absidy',\n",
       " 'abu',\n",
       " 'abubakar',\n",
       " 'abubakr',\n",
       " 'abundio',\n",
       " 'aby',\n",
       " 'abyan',\n",
       " 'abygail',\n",
       " 'abygale',\n",
       " 'acacia',\n",
       " 'acadia',\n",
       " 'access',\n",
       " 'ace',\n",
       " 'acelin',\n",
       " 'acelyn',\n",
       " 'acelynn',\n",
       " 'acen',\n",
       " 'acencion',\n",
       " 'aceson',\n",
       " 'achille',\n",
       " 'achilles',\n",
       " 'acie',\n",
       " 'ackeem',\n",
       " 'acxel',\n",
       " 'acy',\n",
       " 'ada',\n",
       " 'adabella',\n",
       " 'adabelle',\n",
       " 'adael',\n",
       " 'adah',\n",
       " 'adahli',\n",
       " 'adain',\n",
       " 'adair',\n",
       " 'adal',\n",
       " 'adalae',\n",
       " 'adalay',\n",
       " 'adalberto',\n",
       " 'adalee',\n",
       " 'adaleen',\n",
       " 'adaleigh',\n",
       " 'adalena',\n",
       " 'adalene',\n",
       " 'adalhi',\n",
       " 'adali',\n",
       " 'adalia',\n",
       " 'adalid',\n",
       " 'adalie',\n",
       " 'adalin',\n",
       " 'adalina',\n",
       " 'adaline',\n",
       " 'adaliz',\n",
       " 'adaly',\n",
       " 'adalyn',\n",
       " 'adalyne',\n",
       " 'adalynn',\n",
       " 'adalynne',\n",
       " 'adam',\n",
       " 'adama',\n",
       " 'adamari',\n",
       " 'adamaris',\n",
       " 'adamariz',\n",
       " 'adamary',\n",
       " 'adamarys',\n",
       " 'adams',\n",
       " 'adan',\n",
       " 'adanelly',\n",
       " 'adanely',\n",
       " 'adanna',\n",
       " 'adara',\n",
       " 'adarian',\n",
       " 'adarius',\n",
       " 'adarsh',\n",
       " 'adaya',\n",
       " 'adayah',\n",
       " 'adda',\n",
       " 'addalyn',\n",
       " 'addalynn',\n",
       " 'addam',\n",
       " 'addeline',\n",
       " 'addelyn',\n",
       " 'addelynn',\n",
       " 'addie',\n",
       " 'addilyn',\n",
       " 'addilynn',\n",
       " 'addis',\n",
       " 'addisen',\n",
       " 'addison',\n",
       " 'addisson',\n",
       " 'addisyn',\n",
       " 'addy',\n",
       " 'addysen',\n",
       " 'addyson',\n",
       " 'adeeb',\n",
       " 'adeel',\n",
       " 'adeena',\n",
       " 'adel',\n",
       " 'adela',\n",
       " 'adelai',\n",
       " 'adelaida',\n",
       " 'adelaide',\n",
       " 'adelaido',\n",
       " 'adelaine',\n",
       " 'adelard',\n",
       " 'adelayda',\n",
       " 'adelbert',\n",
       " 'adele',\n",
       " 'adelene',\n",
       " 'adelfa',\n",
       " 'adelfina',\n",
       " 'adelia',\n",
       " 'adelie',\n",
       " 'adelin',\n",
       " 'adelina',\n",
       " 'adeline',\n",
       " 'adelino',\n",
       " 'adelisa',\n",
       " 'adelita',\n",
       " 'adell',\n",
       " 'adella',\n",
       " 'adelle',\n",
       " 'adelmira',\n",
       " 'adelyn',\n",
       " 'adelyne',\n",
       " 'adelynn',\n",
       " 'adelynne',\n",
       " 'adem',\n",
       " 'aden',\n",
       " 'adena',\n",
       " 'adenike',\n",
       " 'adeola',\n",
       " 'aderonke',\n",
       " 'adessa',\n",
       " 'adetokunbo',\n",
       " 'adger',\n",
       " 'adgie',\n",
       " 'adham',\n",
       " 'adhemar',\n",
       " 'adhrit',\n",
       " 'adhvik',\n",
       " 'adhya',\n",
       " 'adi',\n",
       " 'adia',\n",
       " 'adian',\n",
       " 'adiana',\n",
       " 'adianez',\n",
       " 'adianna',\n",
       " 'adib',\n",
       " 'adiba',\n",
       " 'adiel',\n",
       " 'adien',\n",
       " 'adil',\n",
       " 'adilee',\n",
       " 'adilene',\n",
       " 'adileni',\n",
       " 'adilyn',\n",
       " 'adilynn',\n",
       " 'adin',\n",
       " 'adina',\n",
       " 'adir',\n",
       " 'adira',\n",
       " 'adison',\n",
       " 'adisyn',\n",
       " 'adit',\n",
       " 'adithi',\n",
       " 'adithya',\n",
       " 'aditi',\n",
       " 'aditya',\n",
       " 'adja',\n",
       " 'adlai',\n",
       " 'adlee',\n",
       " 'adleigh',\n",
       " 'adler',\n",
       " 'adley',\n",
       " 'adline',\n",
       " 'admir',\n",
       " 'adna',\n",
       " 'adnan',\n",
       " 'adolf',\n",
       " 'adolfo',\n",
       " 'adolph',\n",
       " 'adolphe',\n",
       " 'adolphus',\n",
       " 'adon',\n",
       " 'adonai',\n",
       " 'adonay',\n",
       " 'adonis',\n",
       " 'adonna',\n",
       " 'adonnis',\n",
       " 'adonys',\n",
       " 'adora',\n",
       " 'adrain',\n",
       " 'adrea',\n",
       " 'adrean',\n",
       " 'adreana',\n",
       " 'adreanna',\n",
       " 'adreena',\n",
       " 'adrena',\n",
       " 'adria',\n",
       " 'adrian',\n",
       " 'adriana',\n",
       " 'adriane',\n",
       " 'adriann',\n",
       " 'adrianna',\n",
       " 'adrianne',\n",
       " 'adriano',\n",
       " 'adric',\n",
       " 'adrick',\n",
       " 'adrie',\n",
       " 'adrieanna',\n",
       " 'adriel',\n",
       " 'adrielle',\n",
       " 'adrien',\n",
       " 'adriene',\n",
       " 'adrienna',\n",
       " 'adrienne',\n",
       " 'adrik',\n",
       " 'adrin',\n",
       " 'adrina',\n",
       " 'adrion',\n",
       " 'adrionna',\n",
       " 'adron',\n",
       " 'adryan',\n",
       " 'adryana',\n",
       " 'adryanna',\n",
       " 'advait',\n",
       " 'advaith',\n",
       " 'advay',\n",
       " 'advik',\n",
       " 'advika',\n",
       " 'adwoa',\n",
       " 'adya',\n",
       " 'adyan',\n",
       " 'adylene',\n",
       " 'adyline',\n",
       " 'adyn',\n",
       " 'adysen',\n",
       " 'adyson',\n",
       " 'aedan',\n",
       " 'aeden',\n",
       " 'aedyn',\n",
       " 'aeisha',\n",
       " 'aela',\n",
       " 'aeneas',\n",
       " 'aerabella',\n",
       " 'aerial',\n",
       " 'aeriana',\n",
       " 'aerianna',\n",
       " 'aerick',\n",
       " 'aeriel',\n",
       " 'aerilyn',\n",
       " 'aerin',\n",
       " 'aeris',\n",
       " 'aerith',\n",
       " 'aeron',\n",
       " 'aeryn',\n",
       " 'aesha',\n",
       " 'aeson',\n",
       " 'aeva',\n",
       " 'affan',\n",
       " 'afia',\n",
       " 'afiya',\n",
       " 'afnan',\n",
       " 'afra',\n",
       " 'afreen',\n",
       " 'africa',\n",
       " 'afrika',\n",
       " 'afsana',\n",
       " 'afton',\n",
       " 'aftyn',\n",
       " 'afua',\n",
       " 'agam',\n",
       " 'agapita',\n",
       " 'agapito',\n",
       " 'agastya',\n",
       " 'agata',\n",
       " 'agatha',\n",
       " 'ageliki',\n",
       " 'agena',\n",
       " 'aggie',\n",
       " 'agim',\n",
       " 'agnes',\n",
       " 'agness',\n",
       " 'agnew',\n",
       " 'agnieszka',\n",
       " 'agostino',\n",
       " 'agripina',\n",
       " 'agron',\n",
       " 'agueda',\n",
       " 'agustin',\n",
       " 'agustina',\n",
       " 'agustine',\n",
       " 'ah',\n",
       " 'ahaan',\n",
       " 'ahad',\n",
       " 'ahan',\n",
       " 'ahana',\n",
       " 'aharon',\n",
       " 'ahkeem',\n",
       " 'ahlam',\n",
       " 'ahlana',\n",
       " 'ahliyah',\n",
       " 'ahmad',\n",
       " 'ahmadou',\n",
       " 'ahmani',\n",
       " 'ahmari',\n",
       " 'ahmarion',\n",
       " 'ahmed',\n",
       " 'ahmet',\n",
       " 'ahmid',\n",
       " 'ahmir',\n",
       " 'ahmiyah',\n",
       " 'ahmod',\n",
       " 'ahmya',\n",
       " 'ahna',\n",
       " 'ahnaf',\n",
       " 'ahniah',\n",
       " 'ahniya',\n",
       " 'ahniyah',\n",
       " 'ahren',\n",
       " 'ahriana',\n",
       " 'ahron',\n",
       " 'ahsan',\n",
       " 'ahsley',\n",
       " 'ahtziri',\n",
       " 'ahtziry',\n",
       " 'ahuva',\n",
       " 'ai',\n",
       " 'aicha',\n",
       " 'aida',\n",
       " 'aidaly',\n",
       " 'aidan',\n",
       " 'aidden',\n",
       " 'aide',\n",
       " 'aidee',\n",
       " 'aideen',\n",
       " 'aidel',\n",
       " 'aideliz',\n",
       " 'aiden',\n",
       " 'aidenn',\n",
       " 'aidin',\n",
       " 'aidon',\n",
       " 'aidric',\n",
       " 'aidsa',\n",
       " 'aidy',\n",
       " 'aidyn',\n",
       " 'aidynn',\n",
       " 'aiesha',\n",
       " 'aigner',\n",
       " 'aijah',\n",
       " 'aika',\n",
       " 'aikeem',\n",
       " 'aiken',\n",
       " 'aiko',\n",
       " 'aila',\n",
       " 'ailani',\n",
       " 'ailanie',\n",
       " 'ailany',\n",
       " 'ailea',\n",
       " 'ailed',\n",
       " 'ailee',\n",
       " 'aileen',\n",
       " 'aileene',\n",
       " 'ailen',\n",
       " 'ailene',\n",
       " 'aileth',\n",
       " 'ailey',\n",
       " 'aili',\n",
       " 'ailie',\n",
       " 'ailin',\n",
       " 'ailish',\n",
       " 'ailton',\n",
       " 'aily',\n",
       " 'ailyn',\n",
       " 'ailynn',\n",
       " 'aiman',\n",
       " 'aimar',\n",
       " 'aime',\n",
       " 'aimee',\n",
       " 'aimie',\n",
       " 'aimme',\n",
       " 'aina',\n",
       " 'ainara',\n",
       " 'aine',\n",
       " 'aino',\n",
       " 'ainslee',\n",
       " 'ainsleigh',\n",
       " 'ainsley',\n",
       " 'ainslie',\n",
       " 'aira',\n",
       " 'airabella',\n",
       " 'airam',\n",
       " 'aireana',\n",
       " 'aireanna',\n",
       " 'airi',\n",
       " 'airiana',\n",
       " 'airianna',\n",
       " 'airiel',\n",
       " 'airlie',\n",
       " 'airrion',\n",
       " 'airyana',\n",
       " 'aisa',\n",
       " 'aisatou',\n",
       " 'aisea',\n",
       " 'aisha',\n",
       " 'aishah',\n",
       " 'aishani',\n",
       " 'aishia',\n",
       " 'aishwarya',\n",
       " 'aisley',\n",
       " 'aislin',\n",
       " 'aisling',\n",
       " 'aislinn',\n",
       " 'aislyn',\n",
       " 'aislynn',\n",
       " 'aissa',\n",
       " 'aissata',\n",
       " 'aissatou',\n",
       " 'aitan',\n",
       " 'aitana',\n",
       " 'aithan',\n",
       " 'aiva',\n",
       " 'aivah',\n",
       " 'aiven',\n",
       " 'aivy',\n",
       " 'aixa',\n",
       " 'aiyana',\n",
       " 'aiyanah',\n",
       " 'aiyanna',\n",
       " 'aiyden',\n",
       " 'aiyla',\n",
       " 'aiysha',\n",
       " 'aiza',\n",
       " 'aizah',\n",
       " 'aizen',\n",
       " 'aizik',\n",
       " 'aizlynn',\n",
       " 'aizza',\n",
       " 'aj',\n",
       " 'aja',\n",
       " 'ajah',\n",
       " 'ajahni',\n",
       " 'ajai',\n",
       " 'ajanae',\n",
       " 'ajane',\n",
       " 'ajanee',\n",
       " 'ajani',\n",
       " 'ajay',\n",
       " 'ajayla',\n",
       " 'ajaysia',\n",
       " 'ajdin',\n",
       " 'ajee',\n",
       " 'ajena',\n",
       " 'ajia',\n",
       " 'ajit',\n",
       " 'ajla',\n",
       " 'akaash',\n",
       " 'akai',\n",
       " 'akane',\n",
       " 'akanksha',\n",
       " 'akansha',\n",
       " 'akari',\n",
       " 'akash',\n",
       " 'akasha',\n",
       " 'akayla',\n",
       " 'akaylah',\n",
       " 'akaysha',\n",
       " 'akbar',\n",
       " 'akeel',\n",
       " 'akeela',\n",
       " 'akeelah',\n",
       " 'akeem',\n",
       " 'akeema',\n",
       " 'akeen',\n",
       " 'akeiba',\n",
       " 'akeisha',\n",
       " 'akela',\n",
       " 'akemi',\n",
       " 'akeria',\n",
       " 'akhil',\n",
       " 'akhila',\n",
       " 'akia',\n",
       " 'akiba',\n",
       " 'akie',\n",
       " 'akiem',\n",
       " 'akiko',\n",
       " 'akil',\n",
       " 'akila',\n",
       " 'akilah',\n",
       " 'akili',\n",
       " 'akim',\n",
       " 'akin',\n",
       " 'akina',\n",
       " 'akio',\n",
       " 'akira',\n",
       " 'akirah',\n",
       " 'akisha',\n",
       " 'akiva',\n",
       " 'akiyah',\n",
       " 'akoni',\n",
       " 'akosua',\n",
       " 'akram',\n",
       " 'aksel',\n",
       " 'akshaj',\n",
       " 'akshar',\n",
       " 'akshara',\n",
       " 'akshat',\n",
       " 'akshath',\n",
       " 'akshay',\n",
       " 'akshaya',\n",
       " 'akshita',\n",
       " 'akua',\n",
       " 'akul',\n",
       " 'akyra',\n",
       " 'al',\n",
       " 'alaa',\n",
       " 'alabama',\n",
       " 'alacia',\n",
       " 'aladdin',\n",
       " 'alahna',\n",
       " 'alahni',\n",
       " 'alaia',\n",
       " 'alaija',\n",
       " 'alaijah',\n",
       " 'alaila',\n",
       " 'alain',\n",
       " 'alaina',\n",
       " 'alainah',\n",
       " 'alaine',\n",
       " 'alainna',\n",
       " 'alaisha',\n",
       " 'alaiya',\n",
       " 'alaiyah',\n",
       " 'alaiza',\n",
       " 'alajah',\n",
       " 'alakai',\n",
       " 'alam',\n",
       " 'alamar',\n",
       " 'alan',\n",
       " 'alana',\n",
       " 'alanah',\n",
       " 'alanda',\n",
       " 'alandra',\n",
       " 'alandria',\n",
       " 'alane',\n",
       " 'alani',\n",
       " 'alania',\n",
       " 'alanie',\n",
       " 'alanis',\n",
       " 'alanmichael',\n",
       " 'alanna',\n",
       " 'alannah',\n",
       " 'alanni',\n",
       " 'alannis',\n",
       " 'alante',\n",
       " 'alany',\n",
       " 'alanys',\n",
       " 'alanzo',\n",
       " 'alara',\n",
       " 'alaric',\n",
       " 'alasdair',\n",
       " 'alasia',\n",
       " 'alaska',\n",
       " 'alassane',\n",
       " 'alastair',\n",
       " 'alauna',\n",
       " 'alaura',\n",
       " 'alaya',\n",
       " 'alayah',\n",
       " 'alaycia',\n",
       " 'alayia',\n",
       " 'alayiah',\n",
       " 'alayja',\n",
       " 'alayjah',\n",
       " 'alayla',\n",
       " 'alayna',\n",
       " 'alaynah',\n",
       " 'alayne',\n",
       " 'alaynna',\n",
       " 'alaysha',\n",
       " 'alayshia',\n",
       " 'alaysia',\n",
       " 'alayssa',\n",
       " 'alayza',\n",
       " 'alazae',\n",
       " 'alazay',\n",
       " 'alba',\n",
       " 'alban',\n",
       " 'albana',\n",
       " 'albany',\n",
       " 'albaro',\n",
       " 'albeiro',\n",
       " 'alben',\n",
       " 'albena',\n",
       " 'alberdia',\n",
       " 'albert',\n",
       " 'alberta',\n",
       " 'albertha',\n",
       " 'albertia',\n",
       " 'albertina',\n",
       " 'albertine',\n",
       " 'alberto',\n",
       " 'albertus',\n",
       " 'albesa',\n",
       " 'albi',\n",
       " 'albie',\n",
       " 'albieri',\n",
       " 'albiery',\n",
       " 'albin',\n",
       " 'albina',\n",
       " 'albino',\n",
       " 'albion',\n",
       " 'albirda',\n",
       " 'albirta',\n",
       " 'alcario',\n",
       " 'alcee',\n",
       " 'alcide',\n",
       " 'alcides',\n",
       " 'alcie',\n",
       " 'alcuin',\n",
       " 'alda',\n",
       " 'aldah',\n",
       " 'aldahir',\n",
       " 'aldair',\n",
       " 'aldea',\n",
       " 'aldean',\n",
       " 'alden',\n",
       " 'aldena',\n",
       " 'aldene',\n",
       " 'alder',\n",
       " 'alderic',\n",
       " 'aldin',\n",
       " 'aldina',\n",
       " 'aldine',\n",
       " 'aldo',\n",
       " 'aldon',\n",
       " 'aldona',\n",
       " 'aldonia',\n",
       " 'aldor',\n",
       " 'aldric',\n",
       " 'aldrich',\n",
       " 'aldrin',\n",
       " 'alea',\n",
       " 'aleah',\n",
       " 'aleaha',\n",
       " 'alean',\n",
       " 'aleana',\n",
       " 'aleanna',\n",
       " 'alease',\n",
       " 'aleasha',\n",
       " 'alec',\n",
       " 'alecia',\n",
       " 'aleck',\n",
       " 'alecsander',\n",
       " 'alecxis',\n",
       " 'aleczander',\n",
       " 'aleda',\n",
       " 'aleea',\n",
       " 'aleeah',\n",
       " 'aleece',\n",
       " 'aleecia',\n",
       " 'aleem',\n",
       " 'aleen',\n",
       " 'aleena',\n",
       " 'aleenah',\n",
       " 'aleene',\n",
       " 'aleesa',\n",
       " 'aleesha',\n",
       " 'aleeya',\n",
       " 'aleeyah',\n",
       " 'aleeza',\n",
       " 'alegandra',\n",
       " 'alegandro',\n",
       " 'alegra',\n",
       " 'alegria',\n",
       " 'aleia',\n",
       " 'aleiah',\n",
       " 'aleida',\n",
       " 'aleigh',\n",
       " 'aleigha',\n",
       " 'aleina',\n",
       " 'aleisha',\n",
       " 'aleiyah',\n",
       " 'aleja',\n",
       " 'alejah',\n",
       " 'alejando',\n",
       " 'alejandr',\n",
       " 'alejandra',\n",
       " 'alejandrina',\n",
       " 'alejandro',\n",
       " 'alejo',\n",
       " 'alejos',\n",
       " 'alek',\n",
       " 'alekhya',\n",
       " 'aleks',\n",
       " 'aleksa',\n",
       " 'aleksandar',\n",
       " 'aleksander',\n",
       " 'aleksandr',\n",
       " 'aleksandra',\n",
       " 'aleksei',\n",
       " 'aleksey',\n",
       " 'aleksia',\n",
       " 'alekxander',\n",
       " 'alekzander',\n",
       " 'aleli',\n",
       " 'alen',\n",
       " 'alena',\n",
       " 'alene',\n",
       " 'alenna',\n",
       " 'alesa',\n",
       " 'alesana',\n",
       " 'alesandra',\n",
       " 'alesandro',\n",
       " 'alese',\n",
       " 'alesha',\n",
       " 'aleshia',\n",
       " 'alesia',\n",
       " 'alessa',\n",
       " 'alessand',\n",
       " 'alessandra',\n",
       " 'alessandria',\n",
       " 'alessandro',\n",
       " 'alessia',\n",
       " 'alessio',\n",
       " 'aleta',\n",
       " 'aletha',\n",
       " 'alethea',\n",
       " 'aletheia',\n",
       " 'alethia',\n",
       " 'aletta',\n",
       " 'alex',\n",
       " 'alexa',\n",
       " 'alexah',\n",
       " 'alexandar',\n",
       " 'alexande',\n",
       " 'alexander',\n",
       " 'alexandera',\n",
       " 'alexanderia',\n",
       " 'alexanderjames',\n",
       " 'alexandr',\n",
       " 'alexandra',\n",
       " 'alexandre',\n",
       " 'alexandrea',\n",
       " 'alexandria',\n",
       " 'alexandrina',\n",
       " 'alexandro',\n",
       " 'alexandros',\n",
       " 'alexandru',\n",
       " 'alexandrya',\n",
       " 'alexas',\n",
       " 'alexavier',\n",
       " 'alexcia',\n",
       " 'alexcis',\n",
       " 'alexei',\n",
       " 'alexes',\n",
       " 'alexey',\n",
       " 'alexi',\n",
       " 'alexia',\n",
       " 'alexiah',\n",
       " 'alexiana',\n",
       " 'alexie',\n",
       " 'alexina',\n",
       " 'alexio',\n",
       " 'alexis',\n",
       " 'alexiss',\n",
       " 'alexius',\n",
       " 'alexiz',\n",
       " 'alexsa',\n",
       " 'alexsander',\n",
       " 'alexsandra',\n",
       " 'alexsandro',\n",
       " 'alexsia',\n",
       " 'alexsis',\n",
       " 'alexssa',\n",
       " 'alexsys',\n",
       " 'alexus',\n",
       " 'alexx',\n",
       " 'alexxa',\n",
       " 'alexxia',\n",
       " 'alexxis',\n",
       " 'alexxus',\n",
       " 'alexy',\n",
       " 'alexya',\n",
       " 'alexys',\n",
       " 'alexyss',\n",
       " 'alexza',\n",
       " 'alexzander',\n",
       " 'alexzandra',\n",
       " 'alexzandrea',\n",
       " 'alexzandria',\n",
       " 'aleya',\n",
       " 'aleyah',\n",
       " 'aleyda',\n",
       " 'aleyna',\n",
       " 'aleysha',\n",
       " 'alezander',\n",
       " 'alezandra',\n",
       " ...]"
      ]
     },
     "execution_count": 12,
     "metadata": {},
     "output_type": "execute_result"
    }
   ],
   "source": [
    "#to extract features\n",
    "exFeatures = names['name']\n",
    "cv = CountVectorizer()\n",
    "X = cv.fit_transform(exFeatures)\n",
    "cv.get_feature_names()"
   ]
  },
  {
   "cell_type": "code",
   "execution_count": 13,
   "metadata": {
    "pycharm": {
     "is_executing": false
    }
   },
   "outputs": [],
   "source": [
    "#splitting the dataset into training and testing\n",
    "y = names.sex #labels\n",
    "X #features\n",
    "X_train, X_test, y_train, y_test = train_test_split(X, y, test_size=0.25, random_state=42)"
   ]
  },
  {
   "cell_type": "code",
   "execution_count": 14,
   "metadata": {
    "pycharm": {
     "is_executing": false
    }
   },
   "outputs": [
    {
     "data": {
      "text/plain": [
       "0.541860465116279"
      ]
     },
     "execution_count": 14,
     "metadata": {},
     "output_type": "execute_result"
    }
   ],
   "source": [
    "#using Naive Bayes Classification\n",
    "from sklearn.naive_bayes import MultinomialNB\n",
    "clf = MultinomialNB()\n",
    "clf.fit(X_train,y_train)\n",
    "clf.score(X_test,y_test)"
   ]
  },
  {
   "cell_type": "code",
   "execution_count": 15,
   "metadata": {
    "pycharm": {
     "is_executing": false
    }
   },
   "outputs": [
    {
     "data": {
      "text/plain": [
       "array([0, 1, 1, 0, 0, 0], dtype=int64)"
      ]
     },
     "execution_count": 15,
     "metadata": {},
     "output_type": "execute_result"
    }
   ],
   "source": [
    "#doing sample testing on real-time testcases\n",
    "#53% is not appropriate\n",
    "sample_names = ['mohil', 'harsh', 'zubin', 'prasuk', 'amey', 'sarthak']\n",
    "v = cv.transform(sample_names).toarray()\n",
    "clf.predict(v)"
   ]
  },
  {
   "cell_type": "code",
   "execution_count": 16,
   "metadata": {
    "pycharm": {
     "is_executing": false
    }
   },
   "outputs": [],
   "source": [
    "#edges near 50% on real time test cases, trying out decision tree\n",
    "#feeding in commonly known traits for better results\n",
    "def features(name):\n",
    "    name = name.lower()\n",
    "    return {\n",
    "        'FL':name[0],\n",
    "        'F2L':name[0:2],\n",
    "        'F3L':name[0:3],\n",
    "        'LL':name[-1],\n",
    "        'L2L':name[-2:],\n",
    "        'L3L':name[-3:]\n",
    "    }"
   ]
  },
  {
   "cell_type": "code",
   "execution_count": 17,
   "metadata": {
    "pycharm": {
     "is_executing": false
    }
   },
   "outputs": [
    {
     "name": "stdout",
     "output_type": "stream",
     "text": [
      "[{'FL': 'm', 'F2L': 'mo', 'F3L': 'moh', 'LL': 'l', 'L2L': 'il', 'L3L': 'hil'}\n",
      " {'FL': 'h', 'F2L': 'ha', 'F3L': 'har', 'LL': 'h', 'L2L': 'sh', 'L3L': 'rsh'}\n",
      " {'FL': 'z', 'F2L': 'zu', 'F3L': 'zub', 'LL': 'n', 'L2L': 'in', 'L3L': 'bin'}\n",
      " {'FL': 'p', 'F2L': 'pr', 'F3L': 'pra', 'LL': 'k', 'L2L': 'uk', 'L3L': 'suk'}\n",
      " {'FL': 'a', 'F2L': 'am', 'F3L': 'ame', 'LL': 'y', 'L2L': 'ey', 'L3L': 'mey'}\n",
      " {'FL': 's', 'F2L': 'sa', 'F3L': 'sar', 'LL': 'k', 'L2L': 'ak', 'L3L': 'hak'}]\n"
     ]
    }
   ],
   "source": [
    "features = np.vectorize(features)\n",
    "print(features(['mohil', 'harsh', 'zubin', 'prasuk', 'amey', 'sarthak']))"
   ]
  },
  {
   "cell_type": "code",
   "execution_count": 18,
   "metadata": {
    "pycharm": {
     "is_executing": false
    }
   },
   "outputs": [],
   "source": [
    "dfX = features(names['name'])\n",
    "dfy = names['sex']"
   ]
  },
  {
   "cell_type": "code",
   "execution_count": 19,
   "metadata": {
    "pycharm": {
     "is_executing": false
    }
   },
   "outputs": [
    {
     "name": "stdout",
     "output_type": "stream",
     "text": [
      "  (0, 2)\t1.0\n",
      "  (0, 8)\t1.0\n",
      "  (0, 14)\t1.0\n",
      "  (0, 20)\t1.0\n",
      "  (0, 26)\t1.0\n",
      "  (0, 32)\t1.0\n",
      "  (1, 1)\t1.0\n",
      "  (1, 7)\t1.0\n",
      "  (1, 13)\t1.0\n",
      "  (1, 22)\t1.0\n",
      "  (1, 28)\t1.0\n",
      "  (1, 30)\t1.0\n",
      "  (2, 5)\t1.0\n",
      "  (2, 11)\t1.0\n",
      "  (2, 17)\t1.0\n",
      "  (2, 21)\t1.0\n",
      "  (2, 24)\t1.0\n",
      "  (2, 33)\t1.0\n",
      "  (3, 3)\t1.0\n",
      "  (3, 9)\t1.0\n",
      "  (3, 15)\t1.0\n",
      "  (3, 23)\t1.0\n",
      "  (3, 29)\t1.0\n",
      "  (3, 31)\t1.0\n",
      "  (4, 0)\t1.0\n",
      "  (4, 6)\t1.0\n",
      "  (4, 12)\t1.0\n",
      "  (4, 19)\t1.0\n",
      "  (4, 27)\t1.0\n",
      "  (4, 34)\t1.0\n",
      "  (5, 4)\t1.0\n",
      "  (5, 10)\t1.0\n",
      "  (5, 16)\t1.0\n",
      "  (5, 18)\t1.0\n",
      "  (5, 25)\t1.0\n",
      "  (5, 31)\t1.0\n"
     ]
    }
   ],
   "source": [
    "corpus = features(['mohil', 'harsh', 'zubin', 'prasuk', 'amey', 'sarthak'])\n",
    "dv = DictVectorizer()\n",
    "dv.fit(corpus)\n",
    "changed = dv.transform(corpus)\n",
    "print(changed)"
   ]
  },
  {
   "cell_type": "code",
   "execution_count": 20,
   "metadata": {
    "pycharm": {
     "is_executing": false
    }
   },
   "outputs": [
    {
     "data": {
      "text/plain": [
       "['F2L=am',\n",
       " 'F2L=ha',\n",
       " 'F2L=mo',\n",
       " 'F2L=pr',\n",
       " 'F2L=sa',\n",
       " 'F2L=zu',\n",
       " 'F3L=ame',\n",
       " 'F3L=har',\n",
       " 'F3L=moh',\n",
       " 'F3L=pra',\n",
       " 'F3L=sar',\n",
       " 'F3L=zub',\n",
       " 'FL=a',\n",
       " 'FL=h',\n",
       " 'FL=m',\n",
       " 'FL=p',\n",
       " 'FL=s',\n",
       " 'FL=z',\n",
       " 'L2L=ak',\n",
       " 'L2L=ey',\n",
       " 'L2L=il',\n",
       " 'L2L=in',\n",
       " 'L2L=sh',\n",
       " 'L2L=uk',\n",
       " 'L3L=bin',\n",
       " 'L3L=hak',\n",
       " 'L3L=hil',\n",
       " 'L3L=mey',\n",
       " 'L3L=rsh',\n",
       " 'L3L=suk',\n",
       " 'LL=h',\n",
       " 'LL=k',\n",
       " 'LL=l',\n",
       " 'LL=n',\n",
       " 'LL=y']"
      ]
     },
     "execution_count": 20,
     "metadata": {},
     "output_type": "execute_result"
    }
   ],
   "source": [
    "dv.get_feature_names()"
   ]
  },
  {
   "cell_type": "code",
   "execution_count": 21,
   "metadata": {
    "pycharm": {
     "is_executing": false
    }
   },
   "outputs": [],
   "source": [
    "dfX_train, dfX_test, dfy_train, dfy_test = train_test_split(dfX, dfy, test_size=0.25, random_state=42)"
   ]
  },
  {
   "cell_type": "code",
   "execution_count": 22,
   "metadata": {
    "pycharm": {
     "is_executing": false
    }
   },
   "outputs": [
    {
     "data": {
      "text/plain": [
       "<24510x5767 sparse matrix of type '<class 'numpy.float64'>'\n",
       "\twith 147060 stored elements in Compressed Sparse Row format>"
      ]
     },
     "execution_count": 22,
     "metadata": {},
     "output_type": "execute_result"
    }
   ],
   "source": [
    "dv.fit_transform(dfX_train)"
   ]
  },
  {
   "cell_type": "code",
   "execution_count": 23,
   "metadata": {
    "pycharm": {
     "is_executing": false
    }
   },
   "outputs": [
    {
     "data": {
      "text/plain": [
       "DecisionTreeClassifier(ccp_alpha=0.0, class_weight=None, criterion='gini',\n",
       "                       max_depth=None, max_features=None, max_leaf_nodes=None,\n",
       "                       min_impurity_decrease=0.0, min_impurity_split=None,\n",
       "                       min_samples_leaf=1, min_samples_split=2,\n",
       "                       min_weight_fraction_leaf=0.0, presort='deprecated',\n",
       "                       random_state=None, splitter='best')"
      ]
     },
     "execution_count": 23,
     "metadata": {},
     "output_type": "execute_result"
    }
   ],
   "source": [
    "#Model definition\n",
    "from sklearn.tree import DecisionTreeClassifier\n",
    " \n",
    "dclf = DecisionTreeClassifier()\n",
    "my_xfeatures =dv.transform(dfX_train)\n",
    "dclf.fit(my_xfeatures, dfy_train)"
   ]
  },
  {
   "cell_type": "code",
   "execution_count": 24,
   "metadata": {
    "pycharm": {
     "is_executing": false
    }
   },
   "outputs": [],
   "source": [
    "#Sampling on decision tree classifier\n",
    "sample_names = ['kushagra']\n",
    "transform_dv =dv.transform(features(sample_names))\n",
    "v = transform_dv.toarray()"
   ]
  },
  {
   "cell_type": "code",
   "execution_count": 25,
   "metadata": {
    "pycharm": {
     "is_executing": false
    }
   },
   "outputs": [
    {
     "data": {
      "text/plain": [
       "array([1], dtype=int64)"
      ]
     },
     "execution_count": 25,
     "metadata": {},
     "output_type": "execute_result"
    }
   ],
   "source": [
    "dclf.predict(v)"
   ]
  },
  {
   "cell_type": "code",
   "execution_count": 26,
   "metadata": {
    "pycharm": {
     "is_executing": false
    }
   },
   "outputs": [
    {
     "name": "stdout",
     "output_type": "stream",
     "text": [
      "0.9289269685842513\n"
     ]
    }
   ],
   "source": [
    "print(dclf.score(dv.transform(dfX_train), dfy_train))"
   ]
  },
  {
   "cell_type": "code",
   "execution_count": 27,
   "metadata": {
    "pycharm": {
     "is_executing": false
    }
   },
   "outputs": [],
   "source": [
    "#print('Decision Tree Classifier Model Accuracy: ' + str(round(dclf.score(dv.transform(dfX_train), dfy_train)*100)) + '%')"
   ]
  },
  {
   "cell_type": "code",
   "execution_count": 28,
   "metadata": {},
   "outputs": [],
   "source": [
    "def genderPredictDT(names):\n",
    "    transform_dv = dv.transform(features(names))\n",
    "    v = transform_dv.toarray()\n",
    "    ans = dclf.predict(v)\n",
    "    if ans == 0:\n",
    "        print(\"Female\")\n",
    "    else:\n",
    "        print(\"Male\")"
   ]
  },
  {
   "cell_type": "code",
   "execution_count": 29,
   "metadata": {},
   "outputs": [
    {
     "name": "stdout",
     "output_type": "stream",
     "text": [
      "Female\n"
     ]
    }
   ],
   "source": [
    "genderPredictDT(['Amay'])"
   ]
  },
  {
   "cell_type": "code",
   "execution_count": 30,
   "metadata": {
    "pycharm": {
     "is_executing": false
    }
   },
   "outputs": [],
   "source": [
    "#saving the model for further use\n",
    "decisionTreeModel = open('DecisionTreeGenderClassifier.pkl', 'wb')\n",
    "pickle.dump(dclf, decisionTreeModel)\n",
    "decisionTreeModel.close()"
   ]
  },
  {
   "cell_type": "code",
   "execution_count": null,
   "metadata": {
    "pycharm": {
     "is_executing": false
    }
   },
   "outputs": [],
   "source": []
  }
 ],
 "metadata": {
  "kernelspec": {
   "display_name": "Python 3",
   "language": "python",
   "name": "python3"
  },
  "language_info": {
   "codemirror_mode": {
    "name": "ipython",
    "version": 3
   },
   "file_extension": ".py",
   "mimetype": "text/x-python",
   "name": "python",
   "nbconvert_exporter": "python",
   "pygments_lexer": "ipython3",
   "version": "3.7.6"
  },
  "pycharm": {
   "stem_cell": {
    "cell_type": "raw",
    "metadata": {
     "collapsed": false
    },
    "source": []
   }
  }
 },
 "nbformat": 4,
 "nbformat_minor": 4
}
