{
 "cells": [
  {
   "cell_type": "code",
   "execution_count": 1,
   "metadata": {},
   "outputs": [],
   "source": [
    "#Gender Classifier, an applied Machine Learning project that classifies the first name based on gender\n",
    "#Project by: Mohil Khare (23) and Harsh Katkade (20)\n",
    "#Run all the blocks from start and run block no. repititively by selecting that block and pressing shift+enter"
   ]
  },
  {
   "cell_type": "code",
   "execution_count": 2,
   "metadata": {
    "pycharm": {
     "is_executing": false
    }
   },
   "outputs": [],
   "source": [
    "#utility\n",
    "import pandas as pd\n",
    "import numpy as np\n",
    "import pickle\n",
    "#ml packages\n",
    "from sklearn.feature_extraction.text import CountVectorizer\n",
    "from sklearn.feature_extraction import DictVectorizer\n",
    "from sklearn.model_selection import train_test_split"
   ]
  },
  {
   "cell_type": "code",
   "execution_count": 3,
   "metadata": {
    "pycharm": {
     "is_executing": false
    }
   },
   "outputs": [],
   "source": [
    "df = pd.read_csv('dataset.csv')\n",
    "df.head()\n",
    "df.size\n",
    "df.columns\n",
    "df.isnull().isnull().sum()\n",
    "df.dtypes\n",
    "df[df.sex == 'M'].size\n",
    "df[df.sex == 'F'].size\n",
    "names = df\n",
    "names.sex.replace({'F':0, 'M':1}, inplace = True)\n",
    "names.head()\n",
    "names.sex.unique()\n",
    "#to extract features\n",
    "exFeatures = names['name']\n",
    "cv = CountVectorizer()\n",
    "X = cv.fit_transform(exFeatures)\n",
    "cv.get_feature_names()\n",
    "#splitting the dataset into training and testing\n",
    "y = names.sex #labels\n",
    "X #features\n",
    "X_train, X_test, y_train, y_test = train_test_split(X, y, test_size=0.25, random_state=42)"
   ]
  },
  {
   "cell_type": "code",
   "execution_count": 4,
   "metadata": {
    "pycharm": {
     "is_executing": false
    }
   },
   "outputs": [
    {
     "data": {
      "text/plain": [
       "array([0, 1, 1, 0, 0, 0], dtype=int64)"
      ]
     },
     "execution_count": 4,
     "metadata": {},
     "output_type": "execute_result"
    }
   ],
   "source": [
    "#using Naive Bayes Classification\n",
    "from sklearn.naive_bayes import MultinomialNB\n",
    "clf = MultinomialNB()\n",
    "clf.fit(X_train,y_train)\n",
    "clf.score(X_test,y_test)\n",
    "#doing sample testing on real-time testcases\n",
    "#53% is not appropriate\n",
    "sample_names = ['mohil', 'harsh', 'zubin', 'prasuk', 'amey', 'sarthak']\n",
    "v = cv.transform(sample_names).toarray()\n",
    "clf.predict(v)"
   ]
  },
  {
   "cell_type": "code",
   "execution_count": 5,
   "metadata": {
    "pycharm": {
     "is_executing": false
    }
   },
   "outputs": [
    {
     "name": "stdout",
     "output_type": "stream",
     "text": [
      "[{'FL': 'm', 'F2L': 'mo', 'F3L': 'moh', 'LL': 'l', 'L2L': 'il', 'L3L': 'hil'}\n",
      " {'FL': 'h', 'F2L': 'ha', 'F3L': 'har', 'LL': 'h', 'L2L': 'sh', 'L3L': 'rsh'}\n",
      " {'FL': 'z', 'F2L': 'zu', 'F3L': 'zub', 'LL': 'n', 'L2L': 'in', 'L3L': 'bin'}\n",
      " {'FL': 'p', 'F2L': 'pr', 'F3L': 'pra', 'LL': 'k', 'L2L': 'uk', 'L3L': 'suk'}\n",
      " {'FL': 'a', 'F2L': 'am', 'F3L': 'ame', 'LL': 'y', 'L2L': 'ey', 'L3L': 'mey'}\n",
      " {'FL': 's', 'F2L': 'sa', 'F3L': 'sar', 'LL': 'k', 'L2L': 'ak', 'L3L': 'hak'}]\n",
      "  (0, 2)\t1.0\n",
      "  (0, 8)\t1.0\n",
      "  (0, 14)\t1.0\n",
      "  (0, 20)\t1.0\n",
      "  (0, 26)\t1.0\n",
      "  (0, 32)\t1.0\n",
      "  (1, 1)\t1.0\n",
      "  (1, 7)\t1.0\n",
      "  (1, 13)\t1.0\n",
      "  (1, 22)\t1.0\n",
      "  (1, 28)\t1.0\n",
      "  (1, 30)\t1.0\n",
      "  (2, 5)\t1.0\n",
      "  (2, 11)\t1.0\n",
      "  (2, 17)\t1.0\n",
      "  (2, 21)\t1.0\n",
      "  (2, 24)\t1.0\n",
      "  (2, 33)\t1.0\n",
      "  (3, 3)\t1.0\n",
      "  (3, 9)\t1.0\n",
      "  (3, 15)\t1.0\n",
      "  (3, 23)\t1.0\n",
      "  (3, 29)\t1.0\n",
      "  (3, 31)\t1.0\n",
      "  (4, 0)\t1.0\n",
      "  (4, 6)\t1.0\n",
      "  (4, 12)\t1.0\n",
      "  (4, 19)\t1.0\n",
      "  (4, 27)\t1.0\n",
      "  (4, 34)\t1.0\n",
      "  (5, 4)\t1.0\n",
      "  (5, 10)\t1.0\n",
      "  (5, 16)\t1.0\n",
      "  (5, 18)\t1.0\n",
      "  (5, 25)\t1.0\n",
      "  (5, 31)\t1.0\n"
     ]
    },
    {
     "data": {
      "text/plain": [
       "<24510x5767 sparse matrix of type '<class 'numpy.float64'>'\n",
       "\twith 147060 stored elements in Compressed Sparse Row format>"
      ]
     },
     "execution_count": 5,
     "metadata": {},
     "output_type": "execute_result"
    }
   ],
   "source": [
    "#edges near 50% on real time test cases, trying out decision tree\n",
    "#feeding in commonly known traits for better results\n",
    "def features(name):\n",
    "    name = name.lower()\n",
    "    return {\n",
    "        'FL':name[0],\n",
    "        'F2L':name[0:2],\n",
    "        'F3L':name[0:3],\n",
    "        'LL':name[-1],\n",
    "        'L2L':name[-2:],\n",
    "        'L3L':name[-3:]\n",
    "    }\n",
    "features = np.vectorize(features)\n",
    "print(features(['mohil', 'harsh', 'zubin', 'prasuk', 'amey', 'sarthak']))\n",
    "dfX = features(names['name'])\n",
    "dfy = names['sex']\n",
    "\n",
    "corpus = features(['mohil', 'harsh', 'zubin', 'prasuk', 'amey', 'sarthak'])\n",
    "dv = DictVectorizer()\n",
    "dv.fit(corpus)\n",
    "changed = dv.transform(corpus)\n",
    "print(changed)\n",
    "\n",
    "dv.get_feature_names()\n",
    "\n",
    "dfX_train, dfX_test, dfy_train, dfy_test = train_test_split(dfX, dfy, test_size=0.25, random_state=42)\n",
    "dv.fit_transform(dfX_train)\n"
   ]
  },
  {
   "cell_type": "code",
   "execution_count": 6,
   "metadata": {
    "pycharm": {
     "is_executing": false
    }
   },
   "outputs": [
    {
     "name": "stdout",
     "output_type": "stream",
     "text": [
      "Accuracy of the model on testing data is: 92.89269685842513%\n"
     ]
    }
   ],
   "source": [
    "#Model definition\n",
    "from sklearn.tree import DecisionTreeClassifier\n",
    " \n",
    "dclf = DecisionTreeClassifier()\n",
    "my_xfeatures =dv.transform(dfX_train)\n",
    "dclf.fit(my_xfeatures, dfy_train)\n",
    "\n",
    "#Sampling on decision tree classifier\n",
    "sample_names = ['riya']\n",
    "transform_dv =dv.transform(features(sample_names))\n",
    "v = transform_dv.toarray()\n",
    "\n",
    "dclf.predict(v)\n",
    "\n",
    "print('Accuracy of the model on testing data is: ' + str(dclf.score(dv.transform(dfX_train), dfy_train)*100) + '%')\n",
    "\n"
   ]
  },
  {
   "cell_type": "code",
   "execution_count": 7,
   "metadata": {},
   "outputs": [],
   "source": [
    "#saving the model for further use\n",
    "decisionTreeModel = open('DecisionTreeGenderClassifier.pkl', 'wb')\n",
    "pickle.dump(dclf, decisionTreeModel)\n",
    "decisionTreeModel.close()"
   ]
  },
  {
   "cell_type": "code",
   "execution_count": 8,
   "metadata": {
    "pycharm": {
     "is_executing": false
    }
   },
   "outputs": [],
   "source": [
    "def genderPredictDT(names):\n",
    "    transform_dv = dv.transform(features(names))\n",
    "    v = transform_dv.toarray()\n",
    "    ans = dclf.predict(v)\n",
    "    if ans == 0:\n",
    "        print(\"Female\")\n",
    "    else:\n",
    "        print(\"Male\")"
   ]
  },
  {
   "cell_type": "code",
   "execution_count": 9,
   "metadata": {
    "pycharm": {
     "is_executing": false
    }
   },
   "outputs": [
    {
     "name": "stdout",
     "output_type": "stream",
     "text": [
      "Enter the name to classify the gender: mohil\n",
      "mohil is classified as Male\n"
     ]
    }
   ],
   "source": [
    "name = input(\"Enter the name to classify the gender: \")\n",
    "conv = name.lower()\n",
    "print(name + ' is classified as ', end = \"\")\n",
    "genderPredictDT([conv])"
   ]
  }
 ],
 "metadata": {
  "kernelspec": {
   "display_name": "Python 3",
   "language": "python",
   "name": "python3"
  },
  "language_info": {
   "codemirror_mode": {
    "name": "ipython",
    "version": 3
   },
   "file_extension": ".py",
   "mimetype": "text/x-python",
   "name": "python",
   "nbconvert_exporter": "python",
   "pygments_lexer": "ipython3",
   "version": "3.7.0"
  },
  "pycharm": {
   "stem_cell": {
    "cell_type": "raw",
    "metadata": {
     "collapsed": false
    },
    "source": []
   }
  }
 },
 "nbformat": 4,
 "nbformat_minor": 4
}
